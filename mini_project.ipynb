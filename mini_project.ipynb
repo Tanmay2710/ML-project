{
  "nbformat": 4,
  "nbformat_minor": 0,
  "metadata": {
    "colab": {
      "name": "Untitled0.ipynb",
      "provenance": [],
      "authorship_tag": "ABX9TyP4wg63LTSzqbQ0ZXNIN6OB",
      "include_colab_link": true
    },
    "kernelspec": {
      "name": "python3",
      "display_name": "Python 3"
    }
  },
  "cells": [
    {
      "cell_type": "markdown",
      "metadata": {
        "id": "view-in-github",
        "colab_type": "text"
      },
      "source": [
        "<a href=\"https://colab.research.google.com/github/Tanmay2710/ML-project/blob/master/mini_project.ipynb\" target=\"_parent\"><img src=\"https://colab.research.google.com/assets/colab-badge.svg\" alt=\"Open In Colab\"/></a>"
      ]
    },
    {
      "cell_type": "code",
      "metadata": {
        "id": "bkpwfy7qkhoG",
        "colab_type": "code",
        "colab": {}
      },
      "source": [
        "from keras.datasets import cifar10\n",
        "import matplotlib.pyplot as plt\n",
        " \n",
        "(train_X,train_Y),(test_X,test_Y)=cifar10.load_data()"
      ],
      "execution_count": 22,
      "outputs": []
    },
    {
      "cell_type": "code",
      "metadata": {
        "id": "AAjhurWRkkmy",
        "colab_type": "code",
        "colab": {
          "base_uri": "https://localhost:8080/",
          "height": 403
        },
        "outputId": "b93ee539-c83d-4bd4-97f6-5392f5be42d9"
      },
      "source": [
        "n=6\n",
        "plt.figure(figsize=(20,10))\n",
        "for i in range(n):\n",
        "  plt.subplot(330+1+i)\n",
        "plt.imshow(train_X[i])\n",
        "plt.show()"
      ],
      "execution_count": 5,
      "outputs": [
        {
          "output_type": "display_data",
          "data": {
            "image/png": "[encoded data removed]",
            "text/plain": [
              "<Figure size 1440x720 with 6 Axes>"
            ]
          },
          "metadata": {
            "tags": [],
            "needs_background": "light"
          }
        }
      ]
    },
    {
      "cell_type": "code",
      "metadata": {
        "id": "__hdYBoOlaez",
        "colab_type": "code",
        "colab": {}
      },
      "source": [
        "from keras.models import Sequential\n",
        "from keras.layers import Dense\n",
        "from keras.layers import Dropout\n",
        "from keras.layers import Flatten\n",
        "from keras.constraints import maxnorm\n",
        "from keras.optimizers import SGD\n",
        "from keras.layers.convolutional import Conv2D\n",
        "from keras.layers.convolutional import MaxPooling2D\n",
        "from keras.utils import np_utils"
      ],
      "execution_count": 7,
      "outputs": []
    },
    {
      "cell_type": "code",
      "metadata": {
        "id": "LVgNpvUMlolg",
        "colab_type": "code",
        "colab": {}
      },
      "source": [
        "train_x=train_X.astype('float32')\n",
        "test_X=test_X.astype('float32')\n",
        " \n",
        "train_X=train_X/255.0\n",
        "test_X=test_X/255.0"
      ],
      "execution_count": 8,
      "outputs": []
    },
    {
      "cell_type": "code",
      "metadata": {
        "id": "zC4PCD5elxeT",
        "colab_type": "code",
        "colab": {}
      },
      "source": [
        "train_Y=np_utils.to_categorical(train_Y)\n",
        "test_Y=np_utils.to_categorical(test_Y)\n",
        " \n",
        "num_classes=test_Y.shape[1]"
      ],
      "execution_count": 9,
      "outputs": []
    },
    {
      "cell_type": "code",
      "metadata": {
        "id": "bix1mk1olyQ8",
        "colab_type": "code",
        "colab": {}
      },
      "source": [
        "model=Sequential()\n",
        "model.add(Conv2D(32,(3,3),input_shape=(32,32,3),\n",
        "    padding='same',activation='relu',\n",
        "    kernel_constraint=maxnorm(3)))\n",
        "model.add(Dropout(0.2))\n",
        "model.add(Conv2D(32,(3,3),activation='relu',padding='same',kernel_constraint=maxnorm(3)))\n",
        "model.add(MaxPooling2D(pool_size=(2,2)))\n",
        "model.add(Flatten())\n",
        "model.add(Dense(512,activation='relu',kernel_constraint=maxnorm(3)))\n",
        "model.add(Dropout(0.5))\n",
        "model.add(Dense(num_classes, activation='softmax'))"
      ],
      "execution_count": 10,
      "outputs": []
    },
    {
      "cell_type": "code",
      "metadata": {
        "id": "VfItu1Y0l1mO",
        "colab_type": "code",
        "colab": {}
      },
      "source": [
        "sgd=SGD(lr=0.01,momentum=0.9,decay=(0.01/25),nesterov=False)\n",
        " \n",
        "model.compile(loss='categorical_crossentropy',\n",
        "  optimizer=sgd,\n",
        "  metrics=['accuracy'])"
      ],
      "execution_count": 11,
      "outputs": []
    },
    {
      "cell_type": "code",
      "metadata": {
        "id": "u8UrBY4Wmvya",
        "colab_type": "code",
        "colab": {
          "base_uri": "https://localhost:8080/",
          "height": 433
        },
        "outputId": "f4d96a3e-201a-4c50-e735-85d400cf9ef9"
      },
      "source": [
        "model.summary()"
      ],
      "execution_count": 12,
      "outputs": [
        {
          "output_type": "stream",
          "text": [
            "Model: \"sequential\"\n",
            "_________________________________________________________________\n",
            "Layer (type)                 Output Shape              Param #   \n",
            "=================================================================\n",
            "conv2d (Conv2D)              (None, 32, 32, 32)        896       \n",
            "_________________________________________________________________\n",
            "dropout (Dropout)            (None, 32, 32, 32)        0         \n",
            "_________________________________________________________________\n",
            "conv2d_1 (Conv2D)            (None, 32, 32, 32)        9248      \n",
            "_________________________________________________________________\n",
            "max_pooling2d (MaxPooling2D) (None, 16, 16, 32)        0         \n",
            "_________________________________________________________________\n",
            "flatten (Flatten)            (None, 8192)              0         \n",
            "_________________________________________________________________\n",
            "dense (Dense)                (None, 512)               4194816   \n",
            "_________________________________________________________________\n",
            "dropout_1 (Dropout)          (None, 512)               0         \n",
            "_________________________________________________________________\n",
            "dense_1 (Dense)              (None, 10)                5130      \n",
            "=================================================================\n",
            "Total params: 4,210,090\n",
            "Trainable params: 4,210,090\n",
            "Non-trainable params: 0\n",
            "_________________________________________________________________\n"
          ],
          "name": "stdout"
        }
      ]
    },
    {
      "cell_type": "code",
      "metadata": {
        "id": "y0p8vXnhnAu8",
        "colab_type": "code",
        "colab": {
          "base_uri": "https://localhost:8080/",
          "height": 401
        },
        "outputId": "d1bd62ad-0ea1-4d55-a046-114a48c4738a"
      },
      "source": [
        "model.fit(train_X,train_Y,\n",
        "    validation_data=(test_X,test_Y),\n",
        "    epochs=10,batch_size=32)"
      ],
      "execution_count": 13,
      "outputs": [
        {
          "output_type": "stream",
          "text": [
            "Epoch 1/10\n",
            "1563/1563 [==============================] - 272s 174ms/step - loss: 1.6925 - accuracy: 0.3853 - val_loss: 1.3456 - val_accuracy: 0.5206\n",
            "Epoch 2/10\n",
            "1563/1563 [==============================] - 275s 176ms/step - loss: 1.3073 - accuracy: 0.5326 - val_loss: 1.1663 - val_accuracy: 0.5877\n",
            "Epoch 3/10\n",
            "1563/1563 [==============================] - 275s 176ms/step - loss: 1.1404 - accuracy: 0.5960 - val_loss: 1.0588 - val_accuracy: 0.6221\n",
            "Epoch 4/10\n",
            "1563/1563 [==============================] - 270s 173ms/step - loss: 1.0203 - accuracy: 0.6378 - val_loss: 1.0185 - val_accuracy: 0.6402\n",
            "Epoch 5/10\n",
            "1563/1563 [==============================] - 272s 174ms/step - loss: 0.9237 - accuracy: 0.6720 - val_loss: 0.9905 - val_accuracy: 0.6517\n",
            "Epoch 6/10\n",
            "1563/1563 [==============================] - 273s 174ms/step - loss: 0.8422 - accuracy: 0.7037 - val_loss: 0.9322 - val_accuracy: 0.6773\n",
            "Epoch 7/10\n",
            "1563/1563 [==============================] - 270s 173ms/step - loss: 0.7648 - accuracy: 0.7304 - val_loss: 0.9312 - val_accuracy: 0.6782\n",
            "Epoch 8/10\n",
            "1563/1563 [==============================] - 272s 174ms/step - loss: 0.7007 - accuracy: 0.7509 - val_loss: 0.9120 - val_accuracy: 0.6879\n",
            "Epoch 9/10\n",
            "1563/1563 [==============================] - 266s 170ms/step - loss: 0.6415 - accuracy: 0.7730 - val_loss: 0.9317 - val_accuracy: 0.6853\n",
            "Epoch 10/10\n",
            "1563/1563 [==============================] - 263s 168ms/step - loss: 0.5852 - accuracy: 0.7919 - val_loss: 0.9075 - val_accuracy: 0.6975\n"
          ],
          "name": "stdout"
        },
        {
          "output_type": "execute_result",
          "data": {
            "text/plain": [
              "<tensorflow.python.keras.callbacks.History at 0x7f4cd4fb57b8>"
            ]
          },
          "metadata": {
            "tags": []
          },
          "execution_count": 13
        }
      ]
    },
    {
      "cell_type": "code",
      "metadata": {
        "id": "dzZrcTyNnDZD",
        "colab_type": "code",
        "colab": {
          "base_uri": "https://localhost:8080/",
          "height": 52
        },
        "outputId": "dd561e3d-0822-4b9f-c2dd-7f4c0faf9735"
      },
      "source": [
        "_,acc=model.evaluate(test_X,test_Y)\n",
        "print(acc*100)"
      ],
      "execution_count": 14,
      "outputs": [
        {
          "output_type": "stream",
          "text": [
            "313/313 [==============================] - 11s 36ms/step - loss: 0.9075 - accuracy: 0.6975\n",
            "69.74999904632568\n"
          ],
          "name": "stdout"
        }
      ]
    },
    {
      "cell_type": "code",
      "metadata": {
        "id": "XwiVlWvanGVv",
        "colab_type": "code",
        "colab": {}
      },
      "source": [
        "model.save(\"model1_cifar_10epoch.h5\")"
      ],
      "execution_count": 15,
      "outputs": []
    },
    {
      "cell_type": "code",
      "metadata": {
        "id": "iAvwndIGnIjN",
        "colab_type": "code",
        "colab": {
          "base_uri": "https://localhost:8080/",
          "height": 35
        },
        "outputId": "ae4eb11f-5faf-4441-9423-f40f73cd4876"
      },
      "source": [
        "results={\n",
        "   0:'aeroplane',\n",
        "   1:'automobile',\n",
        "   2:'bird',\n",
        "   3:'cat',\n",
        "   4:'deer',\n",
        "   5:'dog',\n",
        "   6:'frog',\n",
        "   7:'horse',\n",
        "   8:'ship',\n",
        "   9:'truck'\n",
        "}\n",
        "from PIL import Image\n",
        "import numpy as np\n",
        "im=Image.open(\"/content/dog_demo.jpg\")\n",
        "# the input image is required to be in the shape of dataset, i.e (32,32,3)\n",
        " \n",
        "im=im.resize((32,32))\n",
        "im=np.expand_dims(im,axis=0)\n",
        "im=np.array(im)\n",
        "pred=model.predict_classes([im])[0]\n",
        "print(pred,results[pred])"
      ],
      "execution_count": 21,
      "outputs": [
        {
          "output_type": "stream",
          "text": [
            "5 dog\n"
          ],
          "name": "stdout"
        }
      ]
    }
  ]
}